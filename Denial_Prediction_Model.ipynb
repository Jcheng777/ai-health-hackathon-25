{
 "cells": [
  {
   "cell_type": "markdown",
   "metadata": {},
   "source": [
    "# Healthcare Claim Denial Prediction\n",
    "\n",
    "This notebook demonstrates how to train a supervised model to predict claim denials using the provided synthetic healthcare claims CSV data.\n",
    "\n",
    "## Goal\n",
    "Predict whether a claim will be denied (Claim Status: Paid = 1, Denied = 0)\n",
    "\n",
    "## Features Used\n",
    "- **Categorical**: Diagnosis Code (ICD), Procedure Code (CPT), Insurance Type, Provider ID\n",
    "- **Numerical**: Billed Amount, Allowed Amount, Paid Amount, Days Since Min Date\n",
    "- **Target**: Claim Status (Approved = 1, Denied = 0)"
   ]
  },
  {
   "cell_type": "code",
   "execution_count": 2,
   "metadata": {},
   "outputs": [
    {
     "name": "stdout",
     "output_type": "stream",
     "text": [
      "Libraries imported successfully!\n"
     ]
    }
   ],
   "source": [
    "# Import required libraries\n",
    "import pandas as pd\n",
    "import numpy as np\n",
    "from sklearn.preprocessing import LabelEncoder, StandardScaler\n",
    "from sklearn.model_selection import train_test_split\n",
    "from sklearn.ensemble import RandomForestClassifier\n",
    "from sklearn.metrics import roc_auc_score, precision_score, recall_score, classification_report, confusion_matrix\n",
    "import matplotlib.pyplot as plt\n",
    "import seaborn as sns\n",
    "import warnings\n",
    "warnings.filterwarnings('ignore')\n",
    "\n",
    "# Set random seed for reproducibility\n",
    "np.random.seed(42)\n",
    "\n",
    "print(\"Libraries imported successfully!\")\n"
   ]
  },
  {
   "cell_type": "code",
   "execution_count": 3,
   "metadata": {},
   "outputs": [],
   "source": [
    "## 1. Load and Explore Data\n"
   ]
  },
  {
   "cell_type": "code",
   "execution_count": 4,
   "metadata": {},
   "outputs": [
    {
     "name": "stdout",
     "output_type": "stream",
     "text": [
      "Dataset shape: (1000, 15)\n",
      "\n",
      "First few rows:\n"
     ]
    },
    {
     "data": {
      "text/html": [
       "<div>\n",
       "<style scoped>\n",
       "    .dataframe tbody tr th:only-of-type {\n",
       "        vertical-align: middle;\n",
       "    }\n",
       "\n",
       "    .dataframe tbody tr th {\n",
       "        vertical-align: top;\n",
       "    }\n",
       "\n",
       "    .dataframe thead th {\n",
       "        text-align: right;\n",
       "    }\n",
       "</style>\n",
       "<table border=\"1\" class=\"dataframe\">\n",
       "  <thead>\n",
       "    <tr style=\"text-align: right;\">\n",
       "      <th></th>\n",
       "      <th>Claim ID</th>\n",
       "      <th>Provider ID</th>\n",
       "      <th>Patient ID</th>\n",
       "      <th>Date of Service</th>\n",
       "      <th>Billed Amount</th>\n",
       "      <th>Procedure Code</th>\n",
       "      <th>Diagnosis Code</th>\n",
       "      <th>Allowed Amount</th>\n",
       "      <th>Paid Amount</th>\n",
       "      <th>Insurance Type</th>\n",
       "      <th>Claim Status</th>\n",
       "      <th>Reason Code</th>\n",
       "      <th>Follow-up Required</th>\n",
       "      <th>AR Status</th>\n",
       "      <th>Outcome</th>\n",
       "    </tr>\n",
       "  </thead>\n",
       "  <tbody>\n",
       "    <tr>\n",
       "      <th>0</th>\n",
       "      <td>0HO1FSN4AP</td>\n",
       "      <td>126528997</td>\n",
       "      <td>7936697103</td>\n",
       "      <td>08/07/2024</td>\n",
       "      <td>304</td>\n",
       "      <td>99231</td>\n",
       "      <td>A02.1</td>\n",
       "      <td>218</td>\n",
       "      <td>203</td>\n",
       "      <td>Self-Pay</td>\n",
       "      <td>Paid</td>\n",
       "      <td>Incorrect billing information</td>\n",
       "      <td>Yes</td>\n",
       "      <td>Pending</td>\n",
       "      <td>Partially Paid</td>\n",
       "    </tr>\n",
       "    <tr>\n",
       "      <th>1</th>\n",
       "      <td>9U86CI2P5A</td>\n",
       "      <td>6986719948</td>\n",
       "      <td>1547160031</td>\n",
       "      <td>06/21/2024</td>\n",
       "      <td>348</td>\n",
       "      <td>99213</td>\n",
       "      <td>A16.5</td>\n",
       "      <td>216</td>\n",
       "      <td>206</td>\n",
       "      <td>Medicare</td>\n",
       "      <td>Paid</td>\n",
       "      <td>Pre-existing condition</td>\n",
       "      <td>Yes</td>\n",
       "      <td>Open</td>\n",
       "      <td>Denied</td>\n",
       "    </tr>\n",
       "    <tr>\n",
       "      <th>2</th>\n",
       "      <td>1QEU1AIDAU</td>\n",
       "      <td>1355108115</td>\n",
       "      <td>2611585318</td>\n",
       "      <td>07/04/2024</td>\n",
       "      <td>235</td>\n",
       "      <td>99213</td>\n",
       "      <td>A00.1</td>\n",
       "      <td>148</td>\n",
       "      <td>119</td>\n",
       "      <td>Commercial</td>\n",
       "      <td>Under Review</td>\n",
       "      <td>Duplicate claim</td>\n",
       "      <td>No</td>\n",
       "      <td>Denied</td>\n",
       "      <td>Denied</td>\n",
       "    </tr>\n",
       "    <tr>\n",
       "      <th>3</th>\n",
       "      <td>WH7XDS8CEO</td>\n",
       "      <td>9991055906</td>\n",
       "      <td>7167948632</td>\n",
       "      <td>05/26/2024</td>\n",
       "      <td>112</td>\n",
       "      <td>99215</td>\n",
       "      <td>A18.6</td>\n",
       "      <td>79</td>\n",
       "      <td>69</td>\n",
       "      <td>Medicare</td>\n",
       "      <td>Denied</td>\n",
       "      <td>Authorization not obtained</td>\n",
       "      <td>No</td>\n",
       "      <td>Partially Paid</td>\n",
       "      <td>Denied</td>\n",
       "    </tr>\n",
       "    <tr>\n",
       "      <th>4</th>\n",
       "      <td>M6OJEZ8KGI</td>\n",
       "      <td>7382167012</td>\n",
       "      <td>2140226267</td>\n",
       "      <td>07/16/2024</td>\n",
       "      <td>406</td>\n",
       "      <td>99238</td>\n",
       "      <td>A17.9</td>\n",
       "      <td>320</td>\n",
       "      <td>259</td>\n",
       "      <td>Medicare</td>\n",
       "      <td>Denied</td>\n",
       "      <td>Authorization not obtained</td>\n",
       "      <td>No</td>\n",
       "      <td>On Hold</td>\n",
       "      <td>Denied</td>\n",
       "    </tr>\n",
       "  </tbody>\n",
       "</table>\n",
       "</div>"
      ],
      "text/plain": [
       "     Claim ID  Provider ID  Patient ID Date of Service  Billed Amount  \\\n",
       "0  0HO1FSN4AP    126528997  7936697103      08/07/2024            304   \n",
       "1  9U86CI2P5A   6986719948  1547160031      06/21/2024            348   \n",
       "2  1QEU1AIDAU   1355108115  2611585318      07/04/2024            235   \n",
       "3  WH7XDS8CEO   9991055906  7167948632      05/26/2024            112   \n",
       "4  M6OJEZ8KGI   7382167012  2140226267      07/16/2024            406   \n",
       "\n",
       "   Procedure Code Diagnosis Code  Allowed Amount  Paid Amount Insurance Type  \\\n",
       "0           99231          A02.1             218          203       Self-Pay   \n",
       "1           99213          A16.5             216          206       Medicare   \n",
       "2           99213          A00.1             148          119     Commercial   \n",
       "3           99215          A18.6              79           69       Medicare   \n",
       "4           99238          A17.9             320          259       Medicare   \n",
       "\n",
       "   Claim Status                    Reason Code Follow-up Required  \\\n",
       "0          Paid  Incorrect billing information                Yes   \n",
       "1          Paid         Pre-existing condition                Yes   \n",
       "2  Under Review                Duplicate claim                 No   \n",
       "3        Denied     Authorization not obtained                 No   \n",
       "4        Denied     Authorization not obtained                 No   \n",
       "\n",
       "        AR Status         Outcome  \n",
       "0         Pending  Partially Paid  \n",
       "1            Open          Denied  \n",
       "2          Denied          Denied  \n",
       "3  Partially Paid          Denied  \n",
       "4         On Hold          Denied  "
      ]
     },
     "execution_count": 4,
     "metadata": {},
     "output_type": "execute_result"
    }
   ],
   "source": [
    "# Load the CSV data\n",
    "df = pd.read_csv('Synthetic Healthcare Claims Data.csv')\n",
    "\n",
    "print(\"Dataset shape:\", df.shape)\n",
    "print(\"\\nFirst few rows:\")\n",
    "df.head()\n"
   ]
  },
  {
   "cell_type": "code",
   "execution_count": 5,
   "metadata": {},
   "outputs": [
    {
     "name": "stdout",
     "output_type": "stream",
     "text": [
      "Data Info:\n",
      "<class 'pandas.core.frame.DataFrame'>\n",
      "RangeIndex: 1000 entries, 0 to 999\n",
      "Data columns (total 15 columns):\n",
      " #   Column              Non-Null Count  Dtype \n",
      "---  ------              --------------  ----- \n",
      " 0   Claim ID            1000 non-null   object\n",
      " 1   Provider ID         1000 non-null   int64 \n",
      " 2   Patient ID          1000 non-null   int64 \n",
      " 3   Date of Service     1000 non-null   object\n",
      " 4   Billed Amount       1000 non-null   int64 \n",
      " 5   Procedure Code      1000 non-null   int64 \n",
      " 6   Diagnosis Code      1000 non-null   object\n",
      " 7   Allowed Amount      1000 non-null   int64 \n",
      " 8   Paid Amount         1000 non-null   int64 \n",
      " 9   Insurance Type      1000 non-null   object\n",
      " 10  Claim Status        1000 non-null   object\n",
      " 11  Reason Code         1000 non-null   object\n",
      " 12  Follow-up Required  1000 non-null   object\n",
      " 13  AR Status           1000 non-null   object\n",
      " 14  Outcome             1000 non-null   object\n",
      "dtypes: int64(6), object(9)\n",
      "memory usage: 117.3+ KB\n",
      "None\n",
      "\n",
      "Column names:\n",
      "['Claim ID', 'Provider ID', 'Patient ID', 'Date of Service', 'Billed Amount', 'Procedure Code', 'Diagnosis Code', 'Allowed Amount', 'Paid Amount', 'Insurance Type', 'Claim Status', 'Reason Code', 'Follow-up Required', 'AR Status', 'Outcome']\n",
      "\n",
      "Missing values:\n",
      "Claim ID              0\n",
      "Provider ID           0\n",
      "Patient ID            0\n",
      "Date of Service       0\n",
      "Billed Amount         0\n",
      "Procedure Code        0\n",
      "Diagnosis Code        0\n",
      "Allowed Amount        0\n",
      "Paid Amount           0\n",
      "Insurance Type        0\n",
      "Claim Status          0\n",
      "Reason Code           0\n",
      "Follow-up Required    0\n",
      "AR Status             0\n",
      "Outcome               0\n",
      "dtype: int64\n"
     ]
    }
   ],
   "source": [
    "# Check data info and missing values\n",
    "print(\"Data Info:\")\n",
    "print(df.info())\n",
    "print(\"\\nColumn names:\")\n",
    "print(df.columns.tolist())\n",
    "print(\"\\nMissing values:\")\n",
    "print(df.isnull().sum())\n"
   ]
  },
  {
   "cell_type": "code",
   "execution_count": 6,
   "metadata": {},
   "outputs": [],
   "source": [
    "## 2. Data Preprocessing\n"
   ]
  },
  {
   "cell_type": "code",
   "execution_count": 7,
   "metadata": {},
   "outputs": [
    {
     "name": "stdout",
     "output_type": "stream",
     "text": [
      "Updated column names:\n",
      "['Claim_ID', 'Provider_ID', 'Patient_ID', 'Date_of_Service', 'Billed_Amount', 'Procedure_Code', 'Diagnosis_Code', 'Allowed_Amount', 'Paid_Amount', 'Insurance_Type', 'Claim_Status', 'Reason_Code', 'Is_Resubmitted', 'Current_Status', 'Payment_Status']\n"
     ]
    }
   ],
   "source": [
    "# Rename columns for easier access\n",
    "df.columns = [\n",
    "    'Claim_ID', 'Provider_ID', 'Patient_ID', 'Date_of_Service', 'Billed_Amount',\n",
    "    'Procedure_Code', 'Diagnosis_Code', 'Allowed_Amount', 'Paid_Amount',\n",
    "    'Insurance_Type', 'Claim_Status', 'Reason_Code', 'Is_Resubmitted',\n",
    "    'Current_Status', 'Payment_Status'\n",
    "]\n",
    "\n",
    "print(\"Updated column names:\")\n",
    "print(df.columns.tolist())\n"
   ]
  },
  {
   "cell_type": "code",
   "execution_count": 8,
   "metadata": {},
   "outputs": [
    {
     "name": "stdout",
     "output_type": "stream",
     "text": [
      "Date range: 2024-05-01 00:00:00 to 2024-09-20 00:00:00\n",
      "Days Since Min range: 0 to 142\n"
     ]
    }
   ],
   "source": [
    "# Feature Engineering - Date of Service\n",
    "df['Date_of_Service'] = pd.to_datetime(df['Date_of_Service'], format='%m/%d/%Y')\n",
    "min_date = df['Date_of_Service'].min()\n",
    "df['Days_Since_Min'] = (df['Date_of_Service'] - min_date).dt.days\n",
    "\n",
    "print(\"Date range:\", min_date, \"to\", df['Date_of_Service'].max())\n",
    "print(\"Days Since Min range:\", df['Days_Since_Min'].min(), \"to\", df['Days_Since_Min'].max())\n"
   ]
  },
  {
   "cell_type": "code",
   "execution_count": 9,
   "metadata": {},
   "outputs": [
    {
     "name": "stdout",
     "output_type": "stream",
     "text": [
      "Diagnosis_Code: 100 unique values\n",
      "Procedure_Code: 10 unique values\n",
      "Insurance_Type: 4 unique values\n",
      "Provider_ID: 1000 unique values\n",
      "\n",
      "Claim Status values: ['Paid' 'Under Review' 'Denied']\n",
      "Claim Status counts:\n",
      "Claim_Status\n",
      "Under Review    338\n",
      "Paid            334\n",
      "Denied          328\n",
      "Name: count, dtype: int64\n"
     ]
    }
   ],
   "source": [
    "# Encode categorical features\n",
    "cat_features = ['Diagnosis_Code', 'Procedure_Code', 'Insurance_Type', 'Provider_ID']\n",
    "label_encoders = {}\n",
    "\n",
    "for col in cat_features:\n",
    "    le = LabelEncoder()\n",
    "    df[col + '_encoded'] = le.fit_transform(df[col].astype(str))\n",
    "    label_encoders[col] = le\n",
    "    print(f\"{col}: {len(le.classes_)} unique values\")\n",
    "\n",
    "# Check unique values in target\n",
    "print(f\"\\nClaim Status values: {df['Claim_Status'].unique()}\")\n",
    "print(f\"Claim Status counts:\\n{df['Claim_Status'].value_counts()}\")\n"
   ]
  },
  {
   "cell_type": "code",
   "execution_count": 10,
   "metadata": {},
   "outputs": [
    {
     "name": "stdout",
     "output_type": "stream",
     "text": [
      "Original dataset size: 1000\n",
      "Clean dataset size: 662\n",
      "Target distribution:\n",
      "Target\n",
      "1.0    334\n",
      "0.0    328\n",
      "Name: count, dtype: int64\n",
      "Target percentage:\n",
      "Target\n",
      "1.0    50.453172\n",
      "0.0    49.546828\n",
      "Name: proportion, dtype: float64\n"
     ]
    }
   ],
   "source": [
    "# Create binary target variable\n",
    "# Map Claim Status to binary (Paid=1, Denied=0, others will be dropped)\n",
    "df['Target'] = df['Claim_Status'].map({'Paid': 1, 'Denied': 0})\n",
    "\n",
    "# Drop rows with missing target (other statuses)\n",
    "df_clean = df.dropna(subset=['Target']).copy()\n",
    "\n",
    "print(f\"Original dataset size: {len(df)}\")\n",
    "print(f\"Clean dataset size: {len(df_clean)}\")\n",
    "print(f\"Target distribution:\\n{df_clean['Target'].value_counts()}\")\n",
    "print(f\"Target percentage:\\n{df_clean['Target'].value_counts(normalize=True) * 100}\")\n"
   ]
  },
  {
   "cell_type": "code",
   "execution_count": 11,
   "metadata": {},
   "outputs": [
    {
     "name": "stdout",
     "output_type": "stream",
     "text": [
      "Features to be used:\n",
      "['Diagnosis_Code_encoded', 'Procedure_Code_encoded', 'Insurance_Type_encoded', 'Provider_ID_encoded', 'Billed_Amount', 'Allowed_Amount', 'Paid_Amount', 'Days_Since_Min']\n",
      "\n",
      "Total features: 8\n"
     ]
    }
   ],
   "source": [
    "# Prepare features for modeling\n",
    "encoded_cat_features = [col + '_encoded' for col in cat_features]\n",
    "num_features = ['Billed_Amount', 'Allowed_Amount', 'Paid_Amount', 'Days_Since_Min']\n",
    "all_features = encoded_cat_features + num_features\n",
    "\n",
    "# Normalize numerical features\n",
    "scaler = StandardScaler()\n",
    "df_clean[num_features] = scaler.fit_transform(df_clean[num_features])\n",
    "\n",
    "print(\"Features to be used:\")\n",
    "print(all_features)\n",
    "print(f\"\\nTotal features: {len(all_features)}\")\n"
   ]
  },
  {
   "cell_type": "code",
   "execution_count": 12,
   "metadata": {},
   "outputs": [],
   "source": [
    "## 3. Train/Test Split\n"
   ]
  },
  {
   "cell_type": "code",
   "execution_count": 25,
   "metadata": {},
   "outputs": [
    {
     "name": "stdout",
     "output_type": "stream",
     "text": [
      "=== DATA SPLIT SUMMARY ===\n",
      "Training set shape: (198, 8) (29.9%)\n",
      "Validation set shape: (232, 8) (35.0%)\n",
      "Test set shape: (232, 8) (35.0%)\n",
      "\n",
      "=== TARGET DISTRIBUTION ===\n",
      "Training target distribution:\n",
      "Target\n",
      "1.0    100\n",
      "0.0     98\n",
      "Name: count, dtype: int64\n",
      "Validation target distribution:\n",
      "Target\n",
      "1.0    117\n",
      "0.0    115\n",
      "Name: count, dtype: int64\n",
      "Test target distribution:\n",
      "Target\n",
      "1.0    117\n",
      "0.0    115\n",
      "Name: count, dtype: int64\n"
     ]
    }
   ],
   "source": [
    "# Split data into features and target\n",
    "X = df_clean[all_features]\n",
    "y = df_clean['Target']\n",
    "\n",
    "# Train/test split\n",
    "X_train, X_temp, y_train, y_temp = train_test_split(\n",
    "    X, y, test_size=0.7, random_state=42, stratify=y\n",
    ")\n",
    "\n",
    "X_val, X_test, y_val, y_test = train_test_split(\n",
    "    X_temp, y_temp, test_size = 0.5, random_state=42, stratify=y_temp\n",
    ")\n",
    "\n",
    "print(\"=== DATA SPLIT SUMMARY ===\")\n",
    "print(f\"Training set shape: {X_train.shape} ({len(X_train)/len(X)*100:.1f}%)\")\n",
    "print(f\"Validation set shape: {X_val.shape} ({len(X_val)/len(X)*100:.1f}%)\")\n",
    "print(f\"Test set shape: {X_test.shape} ({len(X_test)/len(X)*100:.1f}%)\")\n",
    "\n",
    "print(f\"\\n=== TARGET DISTRIBUTION ===\")\n",
    "print(f\"Training target distribution:\\n{y_train.value_counts()}\")\n",
    "print(f\"Validation target distribution:\\n{y_val.value_counts()}\")\n",
    "print(f\"Test target distribution:\\n{y_test.value_counts()}\")"
   ]
  },
  {
   "cell_type": "code",
   "execution_count": 26,
   "metadata": {},
   "outputs": [],
   "source": [
    "## 4. Model Training (XGBoost)\n"
   ]
  },
  {
   "cell_type": "code",
   "execution_count": 50,
   "metadata": {},
   "outputs": [
    {
     "ename": "TypeError",
     "evalue": "RandomForestClassifier.__init__() got an unexpected keyword argument 'feature_names'",
     "output_type": "error",
     "traceback": [
      "\u001b[31m---------------------------------------------------------------------------\u001b[39m",
      "\u001b[31mTypeError\u001b[39m                                 Traceback (most recent call last)",
      "\u001b[36mCell\u001b[39m\u001b[36m \u001b[39m\u001b[32mIn[50]\u001b[39m\u001b[32m, line 2\u001b[39m\n\u001b[32m      1\u001b[39m \u001b[38;5;66;03m# Train Random Forest Classifier\u001b[39;00m\n\u001b[32m----> \u001b[39m\u001b[32m2\u001b[39m clf = \u001b[43mRandomForestClassifier\u001b[49m\u001b[43m(\u001b[49m\n\u001b[32m      3\u001b[39m \u001b[43m    \u001b[49m\u001b[43mn_estimators\u001b[49m\u001b[43m=\u001b[49m\u001b[32;43m100\u001b[39;49m\u001b[43m,\u001b[49m\u001b[43m \u001b[49m\n\u001b[32m      4\u001b[39m \u001b[43m    \u001b[49m\u001b[43mrandom_state\u001b[49m\u001b[43m=\u001b[49m\u001b[32;43m42\u001b[39;49m\u001b[43m,\u001b[49m\u001b[43m \u001b[49m\n\u001b[32m      5\u001b[39m \u001b[43m    \u001b[49m\u001b[43mmax_depth\u001b[49m\u001b[43m=\u001b[49m\u001b[32;43m5\u001b[39;49m\u001b[43m,\u001b[49m\n\u001b[32m      6\u001b[39m \u001b[43m    \u001b[49m\u001b[43mmin_samples_split\u001b[49m\u001b[43m=\u001b[49m\u001b[32;43m5\u001b[39;49m\u001b[43m,\u001b[49m\n\u001b[32m      7\u001b[39m \u001b[43m    \u001b[49m\u001b[43mmin_samples_leaf\u001b[49m\u001b[43m=\u001b[49m\u001b[32;43m2\u001b[39;49m\u001b[43m,\u001b[49m\n\u001b[32m      8\u001b[39m \u001b[43m    \u001b[49m\u001b[43mcriterion\u001b[49m\u001b[43m=\u001b[49m\u001b[33;43m\"\u001b[39;49m\u001b[33;43mlog_loss\u001b[39;49m\u001b[33;43m\"\u001b[39;49m\u001b[43m,\u001b[49m\n\u001b[32m      9\u001b[39m \u001b[43m    \u001b[49m\u001b[43mfeature_names\u001b[49m\u001b[43m=\u001b[49m\u001b[43mX_train\u001b[49m\u001b[43m.\u001b[49m\u001b[43mcolumns\u001b[49m\n\u001b[32m     10\u001b[39m \u001b[43m)\u001b[49m\n\u001b[32m     12\u001b[39m \u001b[38;5;28mprint\u001b[39m(\u001b[33m\"\u001b[39m\u001b[33mTraining the model...\u001b[39m\u001b[33m\"\u001b[39m)\n\u001b[32m     13\u001b[39m clf.fit(X_train, y_train)\n",
      "\u001b[31mTypeError\u001b[39m: RandomForestClassifier.__init__() got an unexpected keyword argument 'feature_names'"
     ]
    }
   ],
   "source": [
    "# Train Random Forest Classifier\n",
    "clf = RandomForestClassifier(\n",
    "    n_estimators=100, \n",
    "    random_state=42, \n",
    "    max_depth=5,\n",
    "    min_samples_split=5,\n",
    "    min_samples_leaf=2,\n",
    "    criterion=\"log_loss\",\n",
    ")\n",
    "\n",
    "print(\"Training the model...\")\n",
    "clf.fit(X_train, y_train)\n",
    "print(\"Model training completed!\")\n"
   ]
  },
  {
   "cell_type": "code",
   "execution_count": 46,
   "metadata": {},
   "outputs": [],
   "source": [
    "## 5. Model Evaluation\n"
   ]
  },
  {
   "cell_type": "code",
   "execution_count": 47,
   "metadata": {},
   "outputs": [
    {
     "name": "stdout",
     "output_type": "stream",
     "text": [
      "=== MODEL PERFORMANCE ===\n",
      "ROC AUC Score: 0.5440\n",
      "Precision: 0.5250\n",
      "Recall: 0.5385\n",
      "F1-Score: 0.5316\n",
      "\n",
      "=== CLASSIFICATION REPORT ===\n",
      "              precision    recall  f1-score   support\n",
      "\n",
      "         0.0       0.52      0.50      0.51       115\n",
      "         1.0       0.53      0.54      0.53       117\n",
      "\n",
      "    accuracy                           0.52       232\n",
      "   macro avg       0.52      0.52      0.52       232\n",
      "weighted avg       0.52      0.52      0.52       232\n",
      "\n"
     ]
    }
   ],
   "source": [
    "# Make predictions\n",
    "y_pred = clf.predict(X_test)\n",
    "y_proba = clf.predict_proba(X_test)[:, 1]\n",
    "\n",
    "# Calculate metrics\n",
    "roc_auc = roc_auc_score(y_test, y_proba)\n",
    "precision = precision_score(y_test, y_pred)\n",
    "recall = recall_score(y_test, y_pred)\n",
    "\n",
    "print(\"=== MODEL PERFORMANCE ===\")\n",
    "print(f\"ROC AUC Score: {roc_auc:.4f}\")\n",
    "print(f\"Precision: {precision:.4f}\")\n",
    "print(f\"Recall: {recall:.4f}\")\n",
    "print(f\"F1-Score: {2 * (precision * recall) / (precision + recall):.4f}\")\n",
    "\n",
    "print(\"\\n=== CLASSIFICATION REPORT ===\")\n",
    "print(classification_report(y_test, y_pred))\n"
   ]
  },
  {
   "cell_type": "code",
   "execution_count": 48,
   "metadata": {},
   "outputs": [
    {
     "data": {
      "image/png": "[encoded data removed]",
      "text/plain": [
       "<Figure size 800x600 with 2 Axes>"
      ]
     },
     "metadata": {},
     "output_type": "display_data"
    }
   ],
   "source": [
    "# Confusion Matrix\n",
    "cm = confusion_matrix(y_test, y_pred)\n",
    "plt.figure(figsize=(8, 6))\n",
    "sns.heatmap(cm, annot=True, fmt='d', cmap='Blues', \n",
    "            xticklabels=['Denied', 'Paid'], \n",
    "            yticklabels=['Denied', 'Paid'])\n",
    "plt.title('Confusion Matrix')\n",
    "plt.ylabel('True Label')\n",
    "plt.xlabel('Predicted Label')\n",
    "plt.show()\n"
   ]
  },
  {
   "cell_type": "code",
   "execution_count": 31,
   "metadata": {},
   "outputs": [],
   "source": [
    "## 6. Feature Importance Analysis\n"
   ]
  },
  {
   "cell_type": "code",
   "execution_count": 32,
   "metadata": {},
   "outputs": [
    {
     "name": "stdout",
     "output_type": "stream",
     "text": [
      "Top 10 Most Important Features:\n",
      "                  feature  importance\n",
      "5          Allowed_Amount    0.184318\n",
      "3     Provider_ID_encoded    0.155474\n",
      "4           Billed_Amount    0.136881\n",
      "0  Diagnosis_Code_encoded    0.132799\n",
      "7          Days_Since_Min    0.122727\n",
      "6             Paid_Amount    0.121307\n",
      "1  Procedure_Code_encoded    0.087601\n",
      "2  Insurance_Type_encoded    0.058895\n"
     ]
    },
    {
     "data": {
      "image/png": "[encoded data removed]",
      "text/plain": [
       "<Figure size 1000x800 with 1 Axes>"
      ]
     },
     "metadata": {},
     "output_type": "display_data"
    }
   ],
   "source": [
    "# Feature importance\n",
    "importances = clf.feature_importances_\n",
    "feature_names = X.columns\n",
    "\n",
    "# Create feature importance dataframe\n",
    "feature_importance_df = pd.DataFrame({\n",
    "    'feature': feature_names,\n",
    "    'importance': importances\n",
    "}).sort_values('importance', ascending=False)\n",
    "\n",
    "print(\"Top 10 Most Important Features:\")\n",
    "print(feature_importance_df.head(10))\n",
    "\n",
    "# Plot feature importance\n",
    "plt.figure(figsize=(10, 8))\n",
    "top_features = feature_importance_df.head(10)\n",
    "sns.barplot(data=top_features, y='feature', x='importance', palette='viridis')\n",
    "plt.title('Top 10 Feature Importances')\n",
    "plt.xlabel('Importance')\n",
    "plt.tight_layout()\n",
    "plt.show()\n"
   ]
  },
  {
   "cell_type": "code",
   "execution_count": 33,
   "metadata": {},
   "outputs": [],
   "source": [
    "## 7. Model Prediction on New Data\n"
   ]
  },
  {
   "cell_type": "code",
   "execution_count": 34,
   "metadata": {},
   "outputs": [
    {
     "name": "stdout",
     "output_type": "stream",
     "text": [
      "Sample Predictions:\n",
      "Record 0: Actual=1.0, Predicted=0.0, Probability=0.318 - Incorrect\n",
      "Record 1: Actual=0.0, Predicted=0.0, Probability=0.493 - Correct\n",
      "Record 2: Actual=1.0, Predicted=1.0, Probability=0.673 - Correct\n",
      "Record 3: Actual=1.0, Predicted=1.0, Probability=0.772 - Correct\n",
      "Record 4: Actual=0.0, Predicted=1.0, Probability=0.612 - Incorrect\n",
      "\n",
      "Model ready for predictions!\n"
     ]
    }
   ],
   "source": [
    "# Example: Predict on a few sample records\n",
    "sample_indices = [0, 1, 2, 3, 4]\n",
    "sample_data = X_test.iloc[sample_indices]\n",
    "sample_predictions = clf.predict(sample_data)\n",
    "sample_probabilities = clf.predict_proba(sample_data)[:, 1]\n",
    "\n",
    "print(\"Sample Predictions:\")\n",
    "for i, idx in enumerate(sample_indices):\n",
    "    actual = y_test.iloc[idx]\n",
    "    pred = sample_predictions[i]\n",
    "    prob = sample_probabilities[i]\n",
    "    status = \"Correct\" if actual == pred else \"Incorrect\"\n",
    "    print(f\"Record {idx}: Actual={actual}, Predicted={pred}, Probability={prob:.3f} - {status}\")\n",
    "\n",
    "# Function to predict on new claims\n",
    "def predict_claim_denial(claim_data):\n",
    "    \"\"\"\n",
    "    Predict claim denial for new data\n",
    "    claim_data should be a dataframe with the same features as training data\n",
    "    \"\"\"\n",
    "    prediction = clf.predict(claim_data)\n",
    "    probability = clf.predict_proba(claim_data)[:, 1]\n",
    "    return prediction, probability\n",
    "\n",
    "print(f\"\\nModel ready for predictions!\")\n"
   ]
  },
  {
   "cell_type": "code",
   "execution_count": null,
   "metadata": {},
   "outputs": [],
   "source": [
    "## Next Steps & Improvements\n",
    "\n",
    "**You can now experiment with the model! Try:**\n",
    "\n",
    "1. **Different Algorithms**: Replace RandomForest with XGBoost, LightGBM, or Neural Networks\n",
    "2. **Hyperparameter Tuning**: Use GridSearchCV or RandomizedSearchCV\n",
    "3. **Feature Engineering**: Create interaction features, polynomial features, or domain-specific features\n",
    "4. **Handle Class Imbalance**: Use SMOTE, class weights, or cost-sensitive learning\n",
    "5. **Cross-Validation**: Use k-fold cross-validation for more robust evaluation\n",
    "6. **Additional Features**: Include Reason Code when available, or create time-based features\n",
    "\n",
    "**Model Performance Summary:**\n",
    "- The model predicts claim denials with varying accuracy depending on your data\n",
    "- Feature importance shows which factors contribute most to denial predictions\n",
    "- Use the `predict_claim_denial()` function for new claim predictions\n"
   ]
  },
  {
   "cell_type": "code",
   "execution_count": null,
   "metadata": {},
   "outputs": [],
   "source": []
  },
  {
   "cell_type": "code",
   "execution_count": null,
   "metadata": {},
   "outputs": [],
   "source": []
  }
 ],
 "metadata": {
  "kernelspec": {
   "display_name": "Python 3 (ipykernel)",
   "language": "python",
   "name": "python3"
  },
  "language_info": {
   "codemirror_mode": {
    "name": "ipython",
    "version": 3
   },
   "file_extension": ".py",
   "mimetype": "text/x-python",
   "name": "python",
   "nbconvert_exporter": "python",
   "pygments_lexer": "ipython3",
   "version": "3.13.4"
  }
 },
 "nbformat": 4,
 "nbformat_minor": 4
}
